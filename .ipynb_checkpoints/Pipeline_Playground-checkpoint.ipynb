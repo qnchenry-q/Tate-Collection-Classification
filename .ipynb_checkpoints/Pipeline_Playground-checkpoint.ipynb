{
 "cells": [
  {
   "cell_type": "code",
   "execution_count": null,
   "id": "wound-beads",
   "metadata": {},
   "outputs": [],
   "source": [
    "import pandas as pd\n",
    "import numpy as np\n",
    "from PIL import Image\n",
    "import urllib.request\n",
    "import io\n",
    "import requests\n",
    "import validators \n",
    "import os"
   ]
  },
  {
   "cell_type": "code",
   "execution_count": null,
   "id": "verified-athens",
   "metadata": {
    "scrolled": false
   },
   "outputs": [],
   "source": [
    "works_raw = pd.read_csv('data/collection/artwork_data.csv')\n",
    "works_raw"
   ]
  },
  {
   "cell_type": "code",
   "execution_count": null,
   "id": "beginning-necessity",
   "metadata": {
    "scrolled": true
   },
   "outputs": [],
   "source": [
    "works_raw.artist.value_counts()"
   ]
  },
  {
   "cell_type": "code",
   "execution_count": null,
   "id": "economic-reynolds",
   "metadata": {},
   "outputs": [],
   "source": [
    "works_raw['ByJMWT'] = works_raw['artist'] == 'Turner, Joseph Mallord William'\n",
    "\n",
    "JMWT = works_raw['ByJMWT'] == True\n",
    "Other_artists = works_raw['ByJMWT'] == False\n",
    "\n",
    "JMWT_works = works_raw[JMWT]\n",
    "JMWT_works_local = JMWT_works.sample(n = 45)\n",
    "\n",
    "JMWT_art_urls = JMWT_works['thumbnailUrl'].to_numpy()\n",
    "JMWT_art_urls_local = JMWT_works_local['thumbnailUrl'].to_numpy()\n",
    "\n",
    "Other_artist_works = works_raw[Other_artists]\n",
    "Other_artist_works_local = Other_artist_works.sample(n = 45)\n",
    "\n",
    "Other_artist_urls = Other_artist_works['thumbnailUrl'].to_numpy()\n",
    "Other_artist_urls_local = Other_artist_works_local['thumbnailUrl'].to_numpy()"
   ]
  },
  {
   "cell_type": "code",
   "execution_count": null,
   "id": "faced-meditation",
   "metadata": {},
   "outputs": [],
   "source": [
    "len(JMWT_works)"
   ]
  },
  {
   "cell_type": "code",
   "execution_count": null,
   "id": "recovered-shoulder",
   "metadata": {},
   "outputs": [],
   "source": [
    "len(Other_artist_works)"
   ]
  },
  {
   "cell_type": "code",
   "execution_count": null,
   "id": "isolated-cooking",
   "metadata": {},
   "outputs": [],
   "source": [
    "artists_raw = pd.read_csv('data/collection/artist_data.csv')\n",
    "artists_raw"
   ]
  },
  {
   "cell_type": "code",
   "execution_count": null,
   "id": "caring-catch",
   "metadata": {},
   "outputs": [],
   "source": [
    "name_gender = artists_raw.iloc[:,[1,2]]\n",
    "works_with_gender = works_raw.merge(name_gender, how = 'left', left_on = 'artist', right_on = 'name')\n",
    "works_with_gender.gender.value_counts()"
   ]
  },
  {
   "cell_type": "code",
   "execution_count": null,
   "id": "closed-charles",
   "metadata": {},
   "outputs": [],
   "source": [
    "male_bool = works_with_gender.gender == 'Male'\n",
    "female_bool = works_with_gender.gender == 'Female' \n",
    "\n",
    "F_set = works_with_gender[female_bool]\n",
    "F_set_local = F_set.sample(n = 45)\n",
    "\n",
    "F_art_urls = F_set['thumbnailUrl'].to_numpy()\n",
    "F_art_urls_local = F_set_local['thumbnailUrl'].to_numpy()\n",
    "\n",
    "M_set = works_with_gender[male_bool]\n",
    "M_set_local = M_set.sample(n = 45)\n",
    "\n",
    "M_art_urls = M_set['thumbnailUrl'].to_numpy()\n",
    "M_art_urls_local = M_set_local['thumbnailUrl'].to_numpy()"
   ]
  },
  {
   "cell_type": "code",
   "execution_count": null,
   "id": "three-toronto",
   "metadata": {},
   "outputs": [],
   "source": [
    "os.mkdir('JMWT_vs_Other')\n",
    "os.mkdir('Male_vs_Female')"
   ]
  },
  {
   "cell_type": "code",
   "execution_count": null,
   "id": "noticed-helena",
   "metadata": {},
   "outputs": [],
   "source": [
    "def clean_url_array (array):\n",
    "    res = []\n",
    "    for url in array:\n",
    "        if type(url)== str:\n",
    "            valid = validators.url(url)\n",
    "            if valid == True:\n",
    "                res.append(url)\n",
    "            else:\n",
    "                continue\n",
    "        else:\n",
    "            continue\n",
    "    return res"
   ]
  },
  {
   "cell_type": "code",
   "execution_count": null,
   "id": "numerous-arrest",
   "metadata": {},
   "outputs": [],
   "source": [
    "import time\n",
    "def array_to_folder (array, parent_dir_name, dir_name):\n",
    "    os.mkdir(dir_name)\n",
    "    for i, url in enumerate(array):\n",
    "        time.sleep(.5)\n",
    "        img_id = str(i)\n",
    "        try:\n",
    "            urllib.request.urlretrieve(url, f\"{parent_dir_name}/{dir_name}/{img_id}.jpg\")\n",
    "        except:\n",
    "            print(f'error with {i} in {name}')\n",
    "            continue\n",
    "    "
   ]
  },
  {
   "cell_type": "code",
   "execution_count": null,
   "id": "unlimited-matter",
   "metadata": {},
   "outputs": [],
   "source": [
    "JMWT_clean_urls_local = clean_url_array(JMWT_art_urls_local)\n",
    "\n",
    "Other_artist_clean_urls_local = clean_url_array(Other_artist_urls_local)\n",
    "\n",
    "F_art_clean_urls_local = clean_url_array(F_art_urls_local)\n",
    "\n",
    "M_art_clean_urls_local = clean_url_array(M_art_urls_local)"
   ]
  },
  {
   "cell_type": "code",
   "execution_count": null,
   "id": "fifty-bedroom",
   "metadata": {},
   "outputs": [],
   "source": [
    "array_to_folder(JMWT_clean_urls_local, 'JMWT_vs_Other','By JMWT')\n",
    "\n",
    "array_to_folder(Other_artist_clean_urls_local, 'JMWT_vs_Other','By another artist')\n",
    "\n",
    "array_to_folder(F_art_clean_urls_local, 'Male_vs_Female','By Female')\n",
    "\n",
    "array_to_folder(M_art_clean_urls_local, 'Male_vs_Female','By Male')"
   ]
  },
  {
   "cell_type": "code",
   "execution_count": null,
   "id": "terminal-audit",
   "metadata": {},
   "outputs": [],
   "source": [
    "JMWT_clean_urls_local = clean_url_array(JMWT_art_urls_local)\n",
    "\n",
    "Other_artist_clean_urls_local = clean_url_array(Other_artist_urls_local)\n",
    "\n",
    "F_art_clean_urls_local = clean_url_array(F_art_urls_local)\n",
    "\n",
    "M_art_clean_urls_local = clean_url_array(M_art_urls_local)"
   ]
  },
  {
   "cell_type": "code",
   "execution_count": null,
   "id": "union-forest",
   "metadata": {},
   "outputs": [],
   "source": []
  }
 ],
 "metadata": {
  "kernelspec": {
   "display_name": "Python 3",
   "language": "python",
   "name": "python3"
  },
  "language_info": {
   "codemirror_mode": {
    "name": "ipython",
    "version": 3
   },
   "file_extension": ".py",
   "mimetype": "text/x-python",
   "name": "python",
   "nbconvert_exporter": "python",
   "pygments_lexer": "ipython3",
   "version": "3.7.10"
  }
 },
 "nbformat": 4,
 "nbformat_minor": 5
}
